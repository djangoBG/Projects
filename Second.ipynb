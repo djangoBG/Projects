{
 "cells": [
  {
   "cell_type": "markdown",
   "metadata": {},
   "source": [
    "# Research on apartment sales ads\n",
    "\n",
    "You will have the data from a real estate agency. It is an archive of sales ads for realty in St. Petersburg, Russia, and the surrounding areas collected over the past few years. You’ll need to learn how to determine the market value of real estate properties. Your task is to define the parameters. This will make it possible to build an automated system that is capable of detecting anomalies and fraudulent activity.\n",
    "\n",
    "There are two different types of data available for every apartment for sale. The first type is a user’s input. The second type is received automatically based upon the map data. For example, the distance from the city center, airport, the nearest park or body of water. "
   ]
  },
  {
   "cell_type": "markdown",
   "metadata": {},
   "source": [
    "### Step 1. Open the data file and study the general information. "
   ]
  },
  {
   "cell_type": "code",
   "execution_count": 1,
   "metadata": {
    "scrolled": true
   },
   "outputs": [
    {
     "data": {
      "text/html": [
       "<div>\n",
       "<style scoped>\n",
       "    .dataframe tbody tr th:only-of-type {\n",
       "        vertical-align: middle;\n",
       "    }\n",
       "\n",
       "    .dataframe tbody tr th {\n",
       "        vertical-align: top;\n",
       "    }\n",
       "\n",
       "    .dataframe thead th {\n",
       "        text-align: right;\n",
       "    }\n",
       "</style>\n",
       "<table border=\"1\" class=\"dataframe\">\n",
       "  <thead>\n",
       "    <tr style=\"text-align: right;\">\n",
       "      <th></th>\n",
       "      <th>days_listed</th>\n",
       "      <th>last_price</th>\n",
       "      <th>bedrooms</th>\n",
       "      <th>kitchen_area</th>\n",
       "      <th>living_area</th>\n",
       "      <th>total_area</th>\n",
       "      <th>balconies</th>\n",
       "      <th>ceiling_height</th>\n",
       "      <th>floors_total</th>\n",
       "      <th>floor</th>\n",
       "      <th>total_images</th>\n",
       "      <th>airport_dist</th>\n",
       "      <th>city_center_dist</th>\n",
       "      <th>park_dist</th>\n",
       "      <th>parks_within_3000</th>\n",
       "      <th>pond_dist</th>\n",
       "      <th>ponds_within_3000</th>\n",
       "    </tr>\n",
       "  </thead>\n",
       "  <tbody>\n",
       "    <tr>\n",
       "      <td>count</td>\n",
       "      <td>20518.000000</td>\n",
       "      <td>2.369900e+04</td>\n",
       "      <td>23699.000000</td>\n",
       "      <td>21421.000000</td>\n",
       "      <td>21796.000000</td>\n",
       "      <td>23699.000000</td>\n",
       "      <td>12180.000000</td>\n",
       "      <td>14504.000000</td>\n",
       "      <td>23613.000000</td>\n",
       "      <td>23699.000000</td>\n",
       "      <td>23699.000000</td>\n",
       "      <td>18157.000000</td>\n",
       "      <td>18180.000000</td>\n",
       "      <td>8079.000000</td>\n",
       "      <td>18181.000000</td>\n",
       "      <td>9110.000000</td>\n",
       "      <td>18181.000000</td>\n",
       "    </tr>\n",
       "    <tr>\n",
       "      <td>mean</td>\n",
       "      <td>180.888634</td>\n",
       "      <td>1.308310e+05</td>\n",
       "      <td>2.070636</td>\n",
       "      <td>10.569807</td>\n",
       "      <td>34.457852</td>\n",
       "      <td>60.348651</td>\n",
       "      <td>1.150082</td>\n",
       "      <td>2.771499</td>\n",
       "      <td>10.673824</td>\n",
       "      <td>5.892358</td>\n",
       "      <td>9.858475</td>\n",
       "      <td>28793.672193</td>\n",
       "      <td>14191.277833</td>\n",
       "      <td>490.804555</td>\n",
       "      <td>0.611408</td>\n",
       "      <td>517.980900</td>\n",
       "      <td>0.770255</td>\n",
       "    </tr>\n",
       "    <tr>\n",
       "      <td>std</td>\n",
       "      <td>219.727988</td>\n",
       "      <td>2.177403e+05</td>\n",
       "      <td>1.078405</td>\n",
       "      <td>5.905438</td>\n",
       "      <td>22.030445</td>\n",
       "      <td>35.654083</td>\n",
       "      <td>1.071300</td>\n",
       "      <td>1.261056</td>\n",
       "      <td>6.597173</td>\n",
       "      <td>4.885249</td>\n",
       "      <td>5.682529</td>\n",
       "      <td>12630.880622</td>\n",
       "      <td>8608.386210</td>\n",
       "      <td>342.317995</td>\n",
       "      <td>0.802074</td>\n",
       "      <td>277.720643</td>\n",
       "      <td>0.938346</td>\n",
       "    </tr>\n",
       "    <tr>\n",
       "      <td>min</td>\n",
       "      <td>1.000000</td>\n",
       "      <td>2.440000e+02</td>\n",
       "      <td>0.000000</td>\n",
       "      <td>1.300000</td>\n",
       "      <td>2.000000</td>\n",
       "      <td>12.000000</td>\n",
       "      <td>0.000000</td>\n",
       "      <td>1.000000</td>\n",
       "      <td>1.000000</td>\n",
       "      <td>1.000000</td>\n",
       "      <td>0.000000</td>\n",
       "      <td>0.000000</td>\n",
       "      <td>181.000000</td>\n",
       "      <td>1.000000</td>\n",
       "      <td>0.000000</td>\n",
       "      <td>13.000000</td>\n",
       "      <td>0.000000</td>\n",
       "    </tr>\n",
       "    <tr>\n",
       "      <td>25%</td>\n",
       "      <td>45.000000</td>\n",
       "      <td>6.800000e+04</td>\n",
       "      <td>1.000000</td>\n",
       "      <td>7.000000</td>\n",
       "      <td>18.600000</td>\n",
       "      <td>40.000000</td>\n",
       "      <td>0.000000</td>\n",
       "      <td>2.520000</td>\n",
       "      <td>5.000000</td>\n",
       "      <td>2.000000</td>\n",
       "      <td>6.000000</td>\n",
       "      <td>18585.000000</td>\n",
       "      <td>9238.000000</td>\n",
       "      <td>288.000000</td>\n",
       "      <td>0.000000</td>\n",
       "      <td>294.000000</td>\n",
       "      <td>0.000000</td>\n",
       "    </tr>\n",
       "    <tr>\n",
       "      <td>50%</td>\n",
       "      <td>95.000000</td>\n",
       "      <td>9.300000e+04</td>\n",
       "      <td>2.000000</td>\n",
       "      <td>9.100000</td>\n",
       "      <td>30.000000</td>\n",
       "      <td>52.000000</td>\n",
       "      <td>1.000000</td>\n",
       "      <td>2.650000</td>\n",
       "      <td>9.000000</td>\n",
       "      <td>4.000000</td>\n",
       "      <td>9.000000</td>\n",
       "      <td>26726.000000</td>\n",
       "      <td>13098.500000</td>\n",
       "      <td>455.000000</td>\n",
       "      <td>0.000000</td>\n",
       "      <td>502.000000</td>\n",
       "      <td>1.000000</td>\n",
       "    </tr>\n",
       "    <tr>\n",
       "      <td>75%</td>\n",
       "      <td>232.000000</td>\n",
       "      <td>1.360000e+05</td>\n",
       "      <td>3.000000</td>\n",
       "      <td>12.000000</td>\n",
       "      <td>42.300000</td>\n",
       "      <td>69.900000</td>\n",
       "      <td>2.000000</td>\n",
       "      <td>2.800000</td>\n",
       "      <td>16.000000</td>\n",
       "      <td>8.000000</td>\n",
       "      <td>14.000000</td>\n",
       "      <td>37273.000000</td>\n",
       "      <td>16293.000000</td>\n",
       "      <td>612.000000</td>\n",
       "      <td>1.000000</td>\n",
       "      <td>729.000000</td>\n",
       "      <td>1.000000</td>\n",
       "    </tr>\n",
       "    <tr>\n",
       "      <td>max</td>\n",
       "      <td>1580.000000</td>\n",
       "      <td>1.526000e+07</td>\n",
       "      <td>19.000000</td>\n",
       "      <td>112.000000</td>\n",
       "      <td>409.700000</td>\n",
       "      <td>900.000000</td>\n",
       "      <td>5.000000</td>\n",
       "      <td>100.000000</td>\n",
       "      <td>60.000000</td>\n",
       "      <td>33.000000</td>\n",
       "      <td>50.000000</td>\n",
       "      <td>84869.000000</td>\n",
       "      <td>65968.000000</td>\n",
       "      <td>3190.000000</td>\n",
       "      <td>3.000000</td>\n",
       "      <td>1344.000000</td>\n",
       "      <td>3.000000</td>\n",
       "    </tr>\n",
       "  </tbody>\n",
       "</table>\n",
       "</div>"
      ],
      "text/plain": [
       "        days_listed    last_price      bedrooms  kitchen_area   living_area  \\\n",
       "count  20518.000000  2.369900e+04  23699.000000  21421.000000  21796.000000   \n",
       "mean     180.888634  1.308310e+05      2.070636     10.569807     34.457852   \n",
       "std      219.727988  2.177403e+05      1.078405      5.905438     22.030445   \n",
       "min        1.000000  2.440000e+02      0.000000      1.300000      2.000000   \n",
       "25%       45.000000  6.800000e+04      1.000000      7.000000     18.600000   \n",
       "50%       95.000000  9.300000e+04      2.000000      9.100000     30.000000   \n",
       "75%      232.000000  1.360000e+05      3.000000     12.000000     42.300000   \n",
       "max     1580.000000  1.526000e+07     19.000000    112.000000    409.700000   \n",
       "\n",
       "         total_area     balconies  ceiling_height  floors_total         floor  \\\n",
       "count  23699.000000  12180.000000    14504.000000  23613.000000  23699.000000   \n",
       "mean      60.348651      1.150082        2.771499     10.673824      5.892358   \n",
       "std       35.654083      1.071300        1.261056      6.597173      4.885249   \n",
       "min       12.000000      0.000000        1.000000      1.000000      1.000000   \n",
       "25%       40.000000      0.000000        2.520000      5.000000      2.000000   \n",
       "50%       52.000000      1.000000        2.650000      9.000000      4.000000   \n",
       "75%       69.900000      2.000000        2.800000     16.000000      8.000000   \n",
       "max      900.000000      5.000000      100.000000     60.000000     33.000000   \n",
       "\n",
       "       total_images  airport_dist  city_center_dist    park_dist  \\\n",
       "count  23699.000000  18157.000000      18180.000000  8079.000000   \n",
       "mean       9.858475  28793.672193      14191.277833   490.804555   \n",
       "std        5.682529  12630.880622       8608.386210   342.317995   \n",
       "min        0.000000      0.000000        181.000000     1.000000   \n",
       "25%        6.000000  18585.000000       9238.000000   288.000000   \n",
       "50%        9.000000  26726.000000      13098.500000   455.000000   \n",
       "75%       14.000000  37273.000000      16293.000000   612.000000   \n",
       "max       50.000000  84869.000000      65968.000000  3190.000000   \n",
       "\n",
       "       parks_within_3000    pond_dist  ponds_within_3000  \n",
       "count       18181.000000  9110.000000       18181.000000  \n",
       "mean            0.611408   517.980900           0.770255  \n",
       "std             0.802074   277.720643           0.938346  \n",
       "min             0.000000    13.000000           0.000000  \n",
       "25%             0.000000   294.000000           0.000000  \n",
       "50%             0.000000   502.000000           1.000000  \n",
       "75%             1.000000   729.000000           1.000000  \n",
       "max             3.000000  1344.000000           3.000000  "
      ]
     },
     "execution_count": 1,
     "metadata": {},
     "output_type": "execute_result"
    }
   ],
   "source": [
    "import pandas as pd\n",
    "import numpy as np\n",
    "import seaborn as sns\n",
    "data=pd.read_csv('/datasets/real_estate_data_us.csv' ,sep ='\\t')   \n",
    "#data.info()\n",
    "data.describe()\n",
    "#data.shape\n",
    "#data.sample\n",
    "\n",
    "#data.head(10)\n",
    "\n",
    "#data.head()\n",
    "#data.tail()\n",
    "\n",
    "#data['locality_name'].unique()\n",
    "\n"
   ]
  },
  {
   "cell_type": "raw",
   "metadata": {},
   "source": [
    "#we have loaded the data into the program, so we have table with 22 columns and 23699 rows, at the first sight we can see that last_price column is in exponential veiw which is unusual, imho also ceiling_height have some unusualy high max values, the distances are in meters instead of km,maybe missing some info about appartment state( new, old, renovated)etc."
   ]
  },
  {
   "cell_type": "markdown",
   "metadata": {},
   "source": []
  },
  {
   "cell_type": "markdown",
   "metadata": {},
   "source": []
  },
  {
   "cell_type": "markdown",
   "metadata": {},
   "source": [
    "### Step 2. Data preprocessing"
   ]
  },
  {
   "cell_type": "code",
   "execution_count": 2,
   "metadata": {},
   "outputs": [
    {
     "data": {
      "text/html": [
       "<div>\n",
       "<style scoped>\n",
       "    .dataframe tbody tr th:only-of-type {\n",
       "        vertical-align: middle;\n",
       "    }\n",
       "\n",
       "    .dataframe tbody tr th {\n",
       "        vertical-align: top;\n",
       "    }\n",
       "\n",
       "    .dataframe thead th {\n",
       "        text-align: right;\n",
       "    }\n",
       "</style>\n",
       "<table border=\"1\" class=\"dataframe\">\n",
       "  <thead>\n",
       "    <tr style=\"text-align: right;\">\n",
       "      <th></th>\n",
       "      <th>date_posted</th>\n",
       "      <th>days_listed</th>\n",
       "      <th>last_price</th>\n",
       "      <th>bedrooms</th>\n",
       "      <th>kitchen_area</th>\n",
       "      <th>living_area</th>\n",
       "      <th>total_area</th>\n",
       "      <th>balconies</th>\n",
       "      <th>ceiling_height</th>\n",
       "      <th>floors_total</th>\n",
       "      <th>...</th>\n",
       "      <th>bike_parking</th>\n",
       "      <th>is_studio</th>\n",
       "      <th>is_open_plan</th>\n",
       "      <th>locality_name</th>\n",
       "      <th>airport_dist</th>\n",
       "      <th>city_center_dist</th>\n",
       "      <th>park_dist</th>\n",
       "      <th>parks_within_3000</th>\n",
       "      <th>pond_dist</th>\n",
       "      <th>ponds_within_3000</th>\n",
       "    </tr>\n",
       "  </thead>\n",
       "  <tbody>\n",
       "    <tr>\n",
       "      <td>0</td>\n",
       "      <td>2019-03-07T00:00:00</td>\n",
       "      <td>NaN</td>\n",
       "      <td>260000.0</td>\n",
       "      <td>3</td>\n",
       "      <td>25.00</td>\n",
       "      <td>51.00</td>\n",
       "      <td>108.00</td>\n",
       "      <td>0.0</td>\n",
       "      <td>2.70</td>\n",
       "      <td>16.0</td>\n",
       "      <td>...</td>\n",
       "      <td>NaN</td>\n",
       "      <td>False</td>\n",
       "      <td>False</td>\n",
       "      <td>Saint Petersburg</td>\n",
       "      <td>18863.0</td>\n",
       "      <td>16028.0</td>\n",
       "      <td>482.0</td>\n",
       "      <td>1.0</td>\n",
       "      <td>755.0</td>\n",
       "      <td>2.0</td>\n",
       "    </tr>\n",
       "    <tr>\n",
       "      <td>1</td>\n",
       "      <td>2018-12-04T00:00:00</td>\n",
       "      <td>81.0</td>\n",
       "      <td>67000.0</td>\n",
       "      <td>1</td>\n",
       "      <td>11.00</td>\n",
       "      <td>18.60</td>\n",
       "      <td>40.40</td>\n",
       "      <td>2.0</td>\n",
       "      <td>NaN</td>\n",
       "      <td>11.0</td>\n",
       "      <td>...</td>\n",
       "      <td>NaN</td>\n",
       "      <td>False</td>\n",
       "      <td>False</td>\n",
       "      <td>Shushary village</td>\n",
       "      <td>12817.0</td>\n",
       "      <td>18603.0</td>\n",
       "      <td>NaN</td>\n",
       "      <td>0.0</td>\n",
       "      <td>NaN</td>\n",
       "      <td>0.0</td>\n",
       "    </tr>\n",
       "    <tr>\n",
       "      <td>2</td>\n",
       "      <td>2015-08-20T00:00:00</td>\n",
       "      <td>558.0</td>\n",
       "      <td>103920.0</td>\n",
       "      <td>2</td>\n",
       "      <td>8.30</td>\n",
       "      <td>34.30</td>\n",
       "      <td>56.00</td>\n",
       "      <td>0.0</td>\n",
       "      <td>NaN</td>\n",
       "      <td>5.0</td>\n",
       "      <td>...</td>\n",
       "      <td>NaN</td>\n",
       "      <td>False</td>\n",
       "      <td>False</td>\n",
       "      <td>Saint Petersburg</td>\n",
       "      <td>21741.0</td>\n",
       "      <td>13933.0</td>\n",
       "      <td>90.0</td>\n",
       "      <td>1.0</td>\n",
       "      <td>574.0</td>\n",
       "      <td>2.0</td>\n",
       "    </tr>\n",
       "    <tr>\n",
       "      <td>3</td>\n",
       "      <td>2015-07-24T00:00:00</td>\n",
       "      <td>424.0</td>\n",
       "      <td>1298000.0</td>\n",
       "      <td>3</td>\n",
       "      <td>NaN</td>\n",
       "      <td>NaN</td>\n",
       "      <td>159.00</td>\n",
       "      <td>0.0</td>\n",
       "      <td>NaN</td>\n",
       "      <td>14.0</td>\n",
       "      <td>...</td>\n",
       "      <td>NaN</td>\n",
       "      <td>False</td>\n",
       "      <td>False</td>\n",
       "      <td>Saint Petersburg</td>\n",
       "      <td>28098.0</td>\n",
       "      <td>6800.0</td>\n",
       "      <td>84.0</td>\n",
       "      <td>2.0</td>\n",
       "      <td>234.0</td>\n",
       "      <td>3.0</td>\n",
       "    </tr>\n",
       "    <tr>\n",
       "      <td>4</td>\n",
       "      <td>2018-06-19T00:00:00</td>\n",
       "      <td>121.0</td>\n",
       "      <td>200000.0</td>\n",
       "      <td>2</td>\n",
       "      <td>41.00</td>\n",
       "      <td>32.00</td>\n",
       "      <td>100.00</td>\n",
       "      <td>0.0</td>\n",
       "      <td>3.03</td>\n",
       "      <td>14.0</td>\n",
       "      <td>...</td>\n",
       "      <td>NaN</td>\n",
       "      <td>False</td>\n",
       "      <td>False</td>\n",
       "      <td>Saint Petersburg</td>\n",
       "      <td>31856.0</td>\n",
       "      <td>8098.0</td>\n",
       "      <td>112.0</td>\n",
       "      <td>2.0</td>\n",
       "      <td>48.0</td>\n",
       "      <td>1.0</td>\n",
       "    </tr>\n",
       "    <tr>\n",
       "      <td>5</td>\n",
       "      <td>2018-09-10T00:00:00</td>\n",
       "      <td>55.0</td>\n",
       "      <td>57800.0</td>\n",
       "      <td>1</td>\n",
       "      <td>9.10</td>\n",
       "      <td>14.40</td>\n",
       "      <td>30.40</td>\n",
       "      <td>0.0</td>\n",
       "      <td>NaN</td>\n",
       "      <td>12.0</td>\n",
       "      <td>...</td>\n",
       "      <td>NaN</td>\n",
       "      <td>False</td>\n",
       "      <td>False</td>\n",
       "      <td>Yanino-1 village</td>\n",
       "      <td>NaN</td>\n",
       "      <td>NaN</td>\n",
       "      <td>NaN</td>\n",
       "      <td>NaN</td>\n",
       "      <td>NaN</td>\n",
       "      <td>NaN</td>\n",
       "    </tr>\n",
       "    <tr>\n",
       "      <td>6</td>\n",
       "      <td>2017-11-02T00:00:00</td>\n",
       "      <td>155.0</td>\n",
       "      <td>74000.0</td>\n",
       "      <td>1</td>\n",
       "      <td>14.40</td>\n",
       "      <td>10.60</td>\n",
       "      <td>37.30</td>\n",
       "      <td>1.0</td>\n",
       "      <td>NaN</td>\n",
       "      <td>26.0</td>\n",
       "      <td>...</td>\n",
       "      <td>NaN</td>\n",
       "      <td>False</td>\n",
       "      <td>False</td>\n",
       "      <td>Pargolovo village</td>\n",
       "      <td>52996.0</td>\n",
       "      <td>19143.0</td>\n",
       "      <td>NaN</td>\n",
       "      <td>0.0</td>\n",
       "      <td>NaN</td>\n",
       "      <td>0.0</td>\n",
       "    </tr>\n",
       "    <tr>\n",
       "      <td>7</td>\n",
       "      <td>2019-04-18T00:00:00</td>\n",
       "      <td>NaN</td>\n",
       "      <td>158300.0</td>\n",
       "      <td>2</td>\n",
       "      <td>18.90</td>\n",
       "      <td>NaN</td>\n",
       "      <td>71.60</td>\n",
       "      <td>2.0</td>\n",
       "      <td>NaN</td>\n",
       "      <td>24.0</td>\n",
       "      <td>...</td>\n",
       "      <td>NaN</td>\n",
       "      <td>False</td>\n",
       "      <td>False</td>\n",
       "      <td>Saint Petersburg</td>\n",
       "      <td>23982.0</td>\n",
       "      <td>11634.0</td>\n",
       "      <td>NaN</td>\n",
       "      <td>0.0</td>\n",
       "      <td>NaN</td>\n",
       "      <td>0.0</td>\n",
       "    </tr>\n",
       "    <tr>\n",
       "      <td>8</td>\n",
       "      <td>2018-05-23T00:00:00</td>\n",
       "      <td>189.0</td>\n",
       "      <td>58000.0</td>\n",
       "      <td>1</td>\n",
       "      <td>8.81</td>\n",
       "      <td>15.43</td>\n",
       "      <td>33.16</td>\n",
       "      <td>0.0</td>\n",
       "      <td>NaN</td>\n",
       "      <td>27.0</td>\n",
       "      <td>...</td>\n",
       "      <td>NaN</td>\n",
       "      <td>False</td>\n",
       "      <td>False</td>\n",
       "      <td>Murino village</td>\n",
       "      <td>NaN</td>\n",
       "      <td>NaN</td>\n",
       "      <td>NaN</td>\n",
       "      <td>NaN</td>\n",
       "      <td>NaN</td>\n",
       "      <td>NaN</td>\n",
       "    </tr>\n",
       "    <tr>\n",
       "      <td>9</td>\n",
       "      <td>2017-02-26T00:00:00</td>\n",
       "      <td>289.0</td>\n",
       "      <td>108000.0</td>\n",
       "      <td>3</td>\n",
       "      <td>6.50</td>\n",
       "      <td>43.60</td>\n",
       "      <td>61.00</td>\n",
       "      <td>2.0</td>\n",
       "      <td>2.50</td>\n",
       "      <td>9.0</td>\n",
       "      <td>...</td>\n",
       "      <td>NaN</td>\n",
       "      <td>False</td>\n",
       "      <td>False</td>\n",
       "      <td>Saint Petersburg</td>\n",
       "      <td>50898.0</td>\n",
       "      <td>15008.0</td>\n",
       "      <td>NaN</td>\n",
       "      <td>0.0</td>\n",
       "      <td>NaN</td>\n",
       "      <td>0.0</td>\n",
       "    </tr>\n",
       "  </tbody>\n",
       "</table>\n",
       "<p>10 rows × 22 columns</p>\n",
       "</div>"
      ],
      "text/plain": [
       "           date_posted  days_listed  last_price  bedrooms  kitchen_area  \\\n",
       "0  2019-03-07T00:00:00          NaN    260000.0         3         25.00   \n",
       "1  2018-12-04T00:00:00         81.0     67000.0         1         11.00   \n",
       "2  2015-08-20T00:00:00        558.0    103920.0         2          8.30   \n",
       "3  2015-07-24T00:00:00        424.0   1298000.0         3           NaN   \n",
       "4  2018-06-19T00:00:00        121.0    200000.0         2         41.00   \n",
       "5  2018-09-10T00:00:00         55.0     57800.0         1          9.10   \n",
       "6  2017-11-02T00:00:00        155.0     74000.0         1         14.40   \n",
       "7  2019-04-18T00:00:00          NaN    158300.0         2         18.90   \n",
       "8  2018-05-23T00:00:00        189.0     58000.0         1          8.81   \n",
       "9  2017-02-26T00:00:00        289.0    108000.0         3          6.50   \n",
       "\n",
       "   living_area  total_area  balconies  ceiling_height  floors_total  ...  \\\n",
       "0        51.00      108.00        0.0            2.70          16.0  ...   \n",
       "1        18.60       40.40        2.0             NaN          11.0  ...   \n",
       "2        34.30       56.00        0.0             NaN           5.0  ...   \n",
       "3          NaN      159.00        0.0             NaN          14.0  ...   \n",
       "4        32.00      100.00        0.0            3.03          14.0  ...   \n",
       "5        14.40       30.40        0.0             NaN          12.0  ...   \n",
       "6        10.60       37.30        1.0             NaN          26.0  ...   \n",
       "7          NaN       71.60        2.0             NaN          24.0  ...   \n",
       "8        15.43       33.16        0.0             NaN          27.0  ...   \n",
       "9        43.60       61.00        2.0            2.50           9.0  ...   \n",
       "\n",
       "   bike_parking  is_studio is_open_plan      locality_name  airport_dist  \\\n",
       "0           NaN      False        False   Saint Petersburg       18863.0   \n",
       "1           NaN      False        False   Shushary village       12817.0   \n",
       "2           NaN      False        False   Saint Petersburg       21741.0   \n",
       "3           NaN      False        False   Saint Petersburg       28098.0   \n",
       "4           NaN      False        False   Saint Petersburg       31856.0   \n",
       "5           NaN      False        False   Yanino-1 village           NaN   \n",
       "6           NaN      False        False  Pargolovo village       52996.0   \n",
       "7           NaN      False        False   Saint Petersburg       23982.0   \n",
       "8           NaN      False        False     Murino village           NaN   \n",
       "9           NaN      False        False   Saint Petersburg       50898.0   \n",
       "\n",
       "  city_center_dist  park_dist  parks_within_3000  pond_dist  ponds_within_3000  \n",
       "0          16028.0      482.0                1.0      755.0                2.0  \n",
       "1          18603.0        NaN                0.0        NaN                0.0  \n",
       "2          13933.0       90.0                1.0      574.0                2.0  \n",
       "3           6800.0       84.0                2.0      234.0                3.0  \n",
       "4           8098.0      112.0                2.0       48.0                1.0  \n",
       "5              NaN        NaN                NaN        NaN                NaN  \n",
       "6          19143.0        NaN                0.0        NaN                0.0  \n",
       "7          11634.0        NaN                0.0        NaN                0.0  \n",
       "8              NaN        NaN                NaN        NaN                NaN  \n",
       "9          15008.0        NaN                0.0        NaN                0.0  \n",
       "\n",
       "[10 rows x 22 columns]"
      ]
     },
     "execution_count": 2,
     "metadata": {},
     "output_type": "execute_result"
    }
   ],
   "source": [
    "#we need to take a look at missing values,and see how many mv in percent for every column\n",
    "#date_posted          23699 non-null object - so there is no missing values at all\n",
    "#days_listed          20518 non-null float64 -  (of 23699): 23699-20518=3,181/23699 *100= 13% percent dont touch!!!\n",
    "#last_price           23699 non-null float64 -  no missing values\n",
    "#bedrooms             23699 non-null int64  - no missing values\n",
    "#kitchen_area         21421 non-null float64 - about 9% will keep it like this\n",
    "#living_area          21796 non-null float64 - less then 9 % keep it as it is\n",
    "#total_area           23699 non-null float64 - no missing values\n",
    "#balconies            12180 non-null float64 - about 48 % Nan fill with 0\n",
    "\n",
    "\n",
    "#ceiling_height       14504 non-null float64- about 38 % fill with median?\n",
    "#floors_total         23613 non-null float64 - not important value\n",
    "#floor                23699 non-null int64 - no mv\n",
    "#total_images         23699 non-null int64 - no mv\n",
    "#bike_parking         2775 non-null object - about 88% Nan fill with 0\n",
    "#is_studio            23699 non-null bool - no mv\n",
    "#is_open_plan         23699 non-null bool- no mv\n",
    "#locality_name        23650 non-null object - very low level not important\n",
    "#airport_dist         18157 non-null float64 - 23%  dont want to touch since can affect our conclusions\n",
    "#city_center_dist     18180 non-null float64  - about 23% dont want to touch since can affect our conclusions\n",
    "#park_dist            8079 non-null float64 - 65 % these columns are not to much important\n",
    "#parks_within_3000    18181 non-null float64 - about 23%  not important\n",
    "#pond_dist            9110 non-null float64 - around 64 % not ipmortant\n",
    "#ponds_within_3000    18181 non-null float64 - 23% not important\n",
    "\n",
    "#so we have to fill the missing values in following columns: balconies, ceiling_heghts,\n",
    "#bike_parking, airport_dist, city_center_dist,park_dist,parks_within_3000, pond_dist,ponds_within_3000\n",
    "\n",
    "#balconies missing values will fill with zero\n",
    "#0 in 'balconies':\n",
    "data['balconies'].isnull()\n",
    "#we will replace NaN with zero\n",
    "data['balconies'].fillna(0, inplace=True)\n",
    "#print(data['balconies'].head(25))\n",
    "data.head(10)"
   ]
  },
  {
   "cell_type": "code",
   "execution_count": 3,
   "metadata": {},
   "outputs": [
    {
     "name": "stdout",
     "output_type": "stream",
     "text": [
      "0    2.70\n",
      "1     NaN\n",
      "2     NaN\n",
      "3     NaN\n",
      "4    3.03\n",
      "Name: ceiling_height, dtype: float64\n",
      "0        2.70\n",
      "1        2.65\n",
      "2        2.65\n",
      "3        2.65\n",
      "4        3.03\n",
      "         ... \n",
      "23694    3.70\n",
      "23695    2.65\n",
      "23696    2.65\n",
      "23697    3.00\n",
      "23698    2.50\n",
      "Name: ceiling_height, Length: 23699, dtype: float64\n"
     ]
    }
   ],
   "source": [
    "#celeing_height now, filled missing with mean:\n",
    "print(data['ceiling_height'].head(5))\n",
    "print(data['ceiling_height'].fillna(data['ceiling_height'].median()))\n",
    "#days listed gonna fill the missing with median\n",
    "#print(data['days_listed'].fillna(data['days_listed'].median())\n",
    "\n",
    "#data['balconies']=data['balconies'].fillna(0)\n",
    "#print(data['balconies'].head(25))"
   ]
  },
  {
   "cell_type": "markdown",
   "metadata": {},
   "source": [
    "#airport_dist have around 23% of missing values but since this can affects our final conclusions we will leave it\n",
    "#city_center_dist gonna leave as it is,for the same reason these is the data that we need in pure form\n"
   ]
  },
  {
   "cell_type": "markdown",
   "metadata": {},
   "source": [
    "#so I decided to leave these two columns as it is, just transformed meters to km."
   ]
  },
  {
   "cell_type": "code",
   "execution_count": 6,
   "metadata": {},
   "outputs": [
    {
     "name": "stdout",
     "output_type": "stream",
     "text": [
      "0    2.70\n",
      "1     NaN\n",
      "2     NaN\n",
      "3     NaN\n",
      "4    3.03\n",
      "Name: ceiling_height, dtype: float64\n"
     ]
    },
    {
     "data": {
      "text/plain": [
       "count    14504.000000\n",
       "mean         2.725258\n",
       "std          0.272242\n",
       "min          1.000000\n",
       "25%          2.520000\n",
       "50%          2.650000\n",
       "75%          2.800000\n",
       "max          5.000000\n",
       "Name: ceiling_height, dtype: float64"
      ]
     },
     "execution_count": 6,
     "metadata": {},
     "output_type": "execute_result"
    }
   ],
   "source": [
    "#here we want to get rid of extremly high values for ceiling \n",
    "#(those are the heights ok for feed mills but thats not real estate that we are dealing with...,\n",
    "# so by cuting them to median we will try to get rid of abnormal values in this column...\n",
    "data['ceiling_height'].describe()\n",
    "\n",
    "data['ceiling_height']=pd.np.where(data['ceiling_height'] >5 ,2.77 , data['ceiling_height'])\n",
    "print(data['ceiling_height'].head())\n",
    "data['ceiling_height'].describe() #to check what we did, its ok there is no celeing more than 5m\n"
   ]
  },
  {
   "cell_type": "code",
   "execution_count": 7,
   "metadata": {},
   "outputs": [
    {
     "name": "stdout",
     "output_type": "stream",
     "text": [
      "0   2019-03-07\n",
      "1   2018-12-04\n",
      "2   2015-08-20\n",
      "3   2015-07-24\n",
      "4   2018-06-19\n",
      "Name: date_posted, dtype: datetime64[ns]\n"
     ]
    }
   ],
   "source": [
    "#we are going to change time format in 'date_posted' column...\n",
    "data['date_posted'] = pd.to_datetime(data['date_posted'], format='%Y-%m-%dT%H:%M:%S')\n",
    "print(data['date_posted'].head())\n",
    "#that looks neat"
   ]
  },
  {
   "cell_type": "code",
   "execution_count": 8,
   "metadata": {},
   "outputs": [
    {
     "name": "stdout",
     "output_type": "stream",
     "text": [
      "0      saint petersburg\n",
      "1      shushary village\n",
      "2      saint petersburg\n",
      "3      saint petersburg\n",
      "4      saint petersburg\n",
      "5      yanino-1 village\n",
      "6     pargolovo village\n",
      "7      saint petersburg\n",
      "8        murino village\n",
      "9      saint petersburg\n",
      "10     saint petersburg\n",
      "11            lomonosov\n",
      "12            sertolovo\n",
      "13             petergof\n",
      "14              pushkin\n",
      "15     saint petersburg\n",
      "16     saint petersburg\n",
      "17     saint petersburg\n",
      "18     saint petersburg\n",
      "19     saint petersburg\n",
      "20    pargolovo village\n",
      "21     saint petersburg\n",
      "22      kudrovo village\n",
      "23     saint petersburg\n",
      "24     saint petersburg\n",
      "Name: locality_name, dtype: object\n"
     ]
    }
   ],
   "source": [
    "#now column 'locality_name' want to get rid of Upper case letters...\n",
    "data['locality_name']=data['locality_name'].str.lower()\n",
    "print(data['locality_name'].head(25))"
   ]
  },
  {
   "cell_type": "code",
   "execution_count": 9,
   "metadata": {},
   "outputs": [
    {
     "name": "stdout",
     "output_type": "stream",
     "text": [
      "Missing values in 13 col\n",
      "---------------------\n",
      "                Field       %  Total_count\n",
      "5        bike_parking  0.8829        20924\n",
      "9           park_dist  0.6591        15620\n",
      "11          pond_dist  0.6156        14589\n",
      "3      ceiling_height  0.3880         9195\n",
      "7        airport_dist  0.2338         5542\n",
      "8    city_center_dist  0.2329         5519\n",
      "10  parks_within_3000  0.2328         5518\n",
      "12  ponds_within_3000  0.2328         5518\n",
      "0         days_listed  0.1342         3181\n",
      "1        kitchen_area  0.0961         2278\n",
      "2         living_area  0.0803         1903\n",
      "4        floors_total  0.0036           86\n",
      "6       locality_name  0.0021           49\n"
     ]
    }
   ],
   "source": [
    " def check_data(data):   \n",
    "     have_nan =[]\n",
    "     for col in data.columns:\n",
    "         if data[col].isna().sum() > 0:\n",
    "             have_nan.append([col,round(data[col].isna().sum() / len(data),4), data[col].isna().sum()])      \n",
    "    \n",
    "     print('Missing values in',len(have_nan), 'col')\n",
    "\n",
    "     have_nan = pd.DataFrame(have_nan)\n",
    "     have_nan.columns = ['Field','%','Total_count']\n",
    "     have_nan.sort_values('%', ascending = False, inplace = True)\n",
    "\n",
    "     print('---------------------')\n",
    "     print(have_nan)\n",
    "\n",
    " check_data(data)"
   ]
  },
  {
   "cell_type": "code",
   "execution_count": 10,
   "metadata": {},
   "outputs": [
    {
     "name": "stdout",
     "output_type": "stream",
     "text": [
      "0    NaN\n",
      "1    NaN\n",
      "2    NaN\n",
      "3    NaN\n",
      "4    NaN\n",
      "Name: bike_parking, dtype: object\n",
      "False    2725\n",
      "True       50\n",
      "Name: bike_parking, dtype: int64\n",
      "2.50    3515\n",
      "2.60    1646\n",
      "2.70    1574\n",
      "3.00    1112\n",
      "2.80     993\n",
      "        ... \n",
      "3.59       1\n",
      "4.80       1\n",
      "4.90       1\n",
      "3.44       1\n",
      "3.39       1\n",
      "Name: ceiling_height, Length: 164, dtype: int64\n"
     ]
    }
   ],
   "source": [
    "#ok bike parking is the first we gonna fix, its a boolian values so we gonna fill NaN with False:\n",
    "#data['bike_parking'].head(5)\n",
    "data['bike_parking'].fillna(False)\n",
    "print(data['bike_parking'].head(5))\n",
    "print(data['bike_parking'].value_counts())\n",
    "\n",
    "#park distance and pond distance totaly irelevant not gonna do nothing, the sam e with parks in 3000 and\n",
    "#ponds in 3000\n",
    "\n",
    "data['ceiling_height'].fillna(data['ceiling_height'].median())\n",
    "print(data['ceiling_height'].value_counts())\n",
    "\n",
    "#days_listed dont want to tuch since this is important column\n",
    "#kitchen_area and living_area gonna fill with ratios that we came up with\n",
    "#floors total and locality_name very low percent of missing values will ignore these\n",
    "\n",
    "ratio_kitchen = data['kitchen_area']/ data['total_area'].median()\n",
    "\n",
    "data['kitchen_area'] = data['kitchen_area'].fillna(value= data['total_area']*ratio_kitchen)\n",
    "\n",
    "ratio_living_area=data['living_area']/data['total_area'].median()\n",
    "\n",
    "data['living_area']=data['living_area'].fillna(value= data['total_area']*ratio_living_area)\n",
    "\n",
    "#thats should be all regarding missing values"
   ]
  },
  {
   "cell_type": "markdown",
   "metadata": {},
   "source": [
    "### Step 3. Make calculations and add them to the table"
   ]
  },
  {
   "cell_type": "code",
   "execution_count": 11,
   "metadata": {},
   "outputs": [
    {
     "data": {
      "text/html": [
       "<div>\n",
       "<style scoped>\n",
       "    .dataframe tbody tr th:only-of-type {\n",
       "        vertical-align: middle;\n",
       "    }\n",
       "\n",
       "    .dataframe tbody tr th {\n",
       "        vertical-align: top;\n",
       "    }\n",
       "\n",
       "    .dataframe thead th {\n",
       "        text-align: right;\n",
       "    }\n",
       "</style>\n",
       "<table border=\"1\" class=\"dataframe\">\n",
       "  <thead>\n",
       "    <tr style=\"text-align: right;\">\n",
       "      <th></th>\n",
       "      <th>date_posted</th>\n",
       "      <th>days_listed</th>\n",
       "      <th>last_price</th>\n",
       "      <th>bedrooms</th>\n",
       "      <th>kitchen_area</th>\n",
       "      <th>living_area</th>\n",
       "      <th>total_area</th>\n",
       "      <th>balconies</th>\n",
       "      <th>ceiling_height</th>\n",
       "      <th>floors_total</th>\n",
       "      <th>...</th>\n",
       "      <th>is_studio</th>\n",
       "      <th>is_open_plan</th>\n",
       "      <th>locality_name</th>\n",
       "      <th>airport_dist</th>\n",
       "      <th>city_center_dist</th>\n",
       "      <th>park_dist</th>\n",
       "      <th>parks_within_3000</th>\n",
       "      <th>pond_dist</th>\n",
       "      <th>ponds_within_3000</th>\n",
       "      <th>price_per_square_meter</th>\n",
       "    </tr>\n",
       "  </thead>\n",
       "  <tbody>\n",
       "    <tr>\n",
       "      <td>0</td>\n",
       "      <td>2019-03-07</td>\n",
       "      <td>NaN</td>\n",
       "      <td>260000.0</td>\n",
       "      <td>3</td>\n",
       "      <td>25.0</td>\n",
       "      <td>51.0</td>\n",
       "      <td>108.0</td>\n",
       "      <td>0.0</td>\n",
       "      <td>2.70</td>\n",
       "      <td>16.0</td>\n",
       "      <td>...</td>\n",
       "      <td>False</td>\n",
       "      <td>False</td>\n",
       "      <td>saint petersburg</td>\n",
       "      <td>18863.0</td>\n",
       "      <td>16028.0</td>\n",
       "      <td>482.0</td>\n",
       "      <td>1.0</td>\n",
       "      <td>755.0</td>\n",
       "      <td>2.0</td>\n",
       "      <td>2407.407407</td>\n",
       "    </tr>\n",
       "    <tr>\n",
       "      <td>1</td>\n",
       "      <td>2018-12-04</td>\n",
       "      <td>81.0</td>\n",
       "      <td>67000.0</td>\n",
       "      <td>1</td>\n",
       "      <td>11.0</td>\n",
       "      <td>18.6</td>\n",
       "      <td>40.4</td>\n",
       "      <td>2.0</td>\n",
       "      <td>NaN</td>\n",
       "      <td>11.0</td>\n",
       "      <td>...</td>\n",
       "      <td>False</td>\n",
       "      <td>False</td>\n",
       "      <td>shushary village</td>\n",
       "      <td>12817.0</td>\n",
       "      <td>18603.0</td>\n",
       "      <td>NaN</td>\n",
       "      <td>0.0</td>\n",
       "      <td>NaN</td>\n",
       "      <td>0.0</td>\n",
       "      <td>1658.415842</td>\n",
       "    </tr>\n",
       "    <tr>\n",
       "      <td>2</td>\n",
       "      <td>2015-08-20</td>\n",
       "      <td>558.0</td>\n",
       "      <td>103920.0</td>\n",
       "      <td>2</td>\n",
       "      <td>8.3</td>\n",
       "      <td>34.3</td>\n",
       "      <td>56.0</td>\n",
       "      <td>0.0</td>\n",
       "      <td>NaN</td>\n",
       "      <td>5.0</td>\n",
       "      <td>...</td>\n",
       "      <td>False</td>\n",
       "      <td>False</td>\n",
       "      <td>saint petersburg</td>\n",
       "      <td>21741.0</td>\n",
       "      <td>13933.0</td>\n",
       "      <td>90.0</td>\n",
       "      <td>1.0</td>\n",
       "      <td>574.0</td>\n",
       "      <td>2.0</td>\n",
       "      <td>1855.714286</td>\n",
       "    </tr>\n",
       "    <tr>\n",
       "      <td>3</td>\n",
       "      <td>2015-07-24</td>\n",
       "      <td>424.0</td>\n",
       "      <td>1298000.0</td>\n",
       "      <td>3</td>\n",
       "      <td>NaN</td>\n",
       "      <td>NaN</td>\n",
       "      <td>159.0</td>\n",
       "      <td>0.0</td>\n",
       "      <td>NaN</td>\n",
       "      <td>14.0</td>\n",
       "      <td>...</td>\n",
       "      <td>False</td>\n",
       "      <td>False</td>\n",
       "      <td>saint petersburg</td>\n",
       "      <td>28098.0</td>\n",
       "      <td>6800.0</td>\n",
       "      <td>84.0</td>\n",
       "      <td>2.0</td>\n",
       "      <td>234.0</td>\n",
       "      <td>3.0</td>\n",
       "      <td>8163.522013</td>\n",
       "    </tr>\n",
       "    <tr>\n",
       "      <td>4</td>\n",
       "      <td>2018-06-19</td>\n",
       "      <td>121.0</td>\n",
       "      <td>200000.0</td>\n",
       "      <td>2</td>\n",
       "      <td>41.0</td>\n",
       "      <td>32.0</td>\n",
       "      <td>100.0</td>\n",
       "      <td>0.0</td>\n",
       "      <td>3.03</td>\n",
       "      <td>14.0</td>\n",
       "      <td>...</td>\n",
       "      <td>False</td>\n",
       "      <td>False</td>\n",
       "      <td>saint petersburg</td>\n",
       "      <td>31856.0</td>\n",
       "      <td>8098.0</td>\n",
       "      <td>112.0</td>\n",
       "      <td>2.0</td>\n",
       "      <td>48.0</td>\n",
       "      <td>1.0</td>\n",
       "      <td>2000.000000</td>\n",
       "    </tr>\n",
       "  </tbody>\n",
       "</table>\n",
       "<p>5 rows × 23 columns</p>\n",
       "</div>"
      ],
      "text/plain": [
       "  date_posted  days_listed  last_price  bedrooms  kitchen_area  living_area  \\\n",
       "0  2019-03-07          NaN    260000.0         3          25.0         51.0   \n",
       "1  2018-12-04         81.0     67000.0         1          11.0         18.6   \n",
       "2  2015-08-20        558.0    103920.0         2           8.3         34.3   \n",
       "3  2015-07-24        424.0   1298000.0         3           NaN          NaN   \n",
       "4  2018-06-19        121.0    200000.0         2          41.0         32.0   \n",
       "\n",
       "   total_area  balconies  ceiling_height  floors_total  ...  is_studio  \\\n",
       "0       108.0        0.0            2.70          16.0  ...      False   \n",
       "1        40.4        2.0             NaN          11.0  ...      False   \n",
       "2        56.0        0.0             NaN           5.0  ...      False   \n",
       "3       159.0        0.0             NaN          14.0  ...      False   \n",
       "4       100.0        0.0            3.03          14.0  ...      False   \n",
       "\n",
       "   is_open_plan     locality_name  airport_dist  city_center_dist park_dist  \\\n",
       "0         False  saint petersburg       18863.0           16028.0     482.0   \n",
       "1         False  shushary village       12817.0           18603.0       NaN   \n",
       "2         False  saint petersburg       21741.0           13933.0      90.0   \n",
       "3         False  saint petersburg       28098.0            6800.0      84.0   \n",
       "4         False  saint petersburg       31856.0            8098.0     112.0   \n",
       "\n",
       "   parks_within_3000  pond_dist  ponds_within_3000  price_per_square_meter  \n",
       "0                1.0      755.0                2.0             2407.407407  \n",
       "1                0.0        NaN                0.0             1658.415842  \n",
       "2                1.0      574.0                2.0             1855.714286  \n",
       "3                2.0      234.0                3.0             8163.522013  \n",
       "4                2.0       48.0                1.0             2000.000000  \n",
       "\n",
       "[5 rows x 23 columns]"
      ]
     },
     "execution_count": 11,
     "metadata": {},
     "output_type": "execute_result"
    }
   ],
   "source": [
    "#adding a column 'price_per_square_meter'\n",
    "data['price_per_square_meter']=data['last_price']/data['total_area']\n",
    "data.head()"
   ]
  },
  {
   "cell_type": "code",
   "execution_count": 12,
   "metadata": {},
   "outputs": [
    {
     "name": "stdout",
     "output_type": "stream",
     "text": [
      "  date_posted  days_listed  last_price  bedrooms  kitchen_area  living_area  \\\n",
      "0  2019-03-07          NaN    260000.0         3          25.0         51.0   \n",
      "1  2018-12-04         81.0     67000.0         1          11.0         18.6   \n",
      "2  2015-08-20        558.0    103920.0         2           8.3         34.3   \n",
      "3  2015-07-24        424.0   1298000.0         3           NaN          NaN   \n",
      "4  2018-06-19        121.0    200000.0         2          41.0         32.0   \n",
      "\n",
      "   total_area  balconies  ceiling_height  floors_total  ...  is_open_plan  \\\n",
      "0       108.0        0.0            2.70          16.0  ...         False   \n",
      "1        40.4        2.0             NaN          11.0  ...         False   \n",
      "2        56.0        0.0             NaN           5.0  ...         False   \n",
      "3       159.0        0.0             NaN          14.0  ...         False   \n",
      "4       100.0        0.0            3.03          14.0  ...         False   \n",
      "\n",
      "      locality_name airport_dist  city_center_dist  park_dist  \\\n",
      "0  saint petersburg      18863.0           16028.0      482.0   \n",
      "1  shushary village      12817.0           18603.0        NaN   \n",
      "2  saint petersburg      21741.0           13933.0       90.0   \n",
      "3  saint petersburg      28098.0            6800.0       84.0   \n",
      "4  saint petersburg      31856.0            8098.0      112.0   \n",
      "\n",
      "  parks_within_3000  pond_dist  ponds_within_3000  price_per_square_meter  \\\n",
      "0               1.0      755.0                2.0             2407.407407   \n",
      "1               0.0        NaN                0.0             1658.415842   \n",
      "2               1.0      574.0                2.0             1855.714286   \n",
      "3               2.0      234.0                3.0             8163.522013   \n",
      "4               2.0       48.0                1.0             2000.000000   \n",
      "\n",
      "   floor_level  \n",
      "0        other  \n",
      "1        first  \n",
      "2        other  \n",
      "3        other  \n",
      "4        other  \n",
      "\n",
      "[5 rows x 24 columns]\n"
     ]
    }
   ],
   "source": [
    "#floor first/last/other\n",
    " \n",
    "def find_floor(floor, total_floor):\n",
    "    if floor == 1:\n",
    "        return 'first'\n",
    "    elif floor == total_floor:\n",
    "        return 'last'\n",
    "    else:\n",
    "         return 'other'\n",
    "\n",
    "data['floor_level'] = data.apply(lambda x: find_floor(x['floor'], x['floors_total']), axis=1) \n",
    "print(data.head())\n",
    "\n"
   ]
  },
  {
   "cell_type": "code",
   "execution_count": 1,
   "metadata": {},
   "outputs": [
    {
     "ename": "NameError",
     "evalue": "name 'data' is not defined",
     "output_type": "error",
     "traceback": [
      "\u001b[1;31m---------------------------------------------------------------------------\u001b[0m",
      "\u001b[1;31mNameError\u001b[0m                                 Traceback (most recent call last)",
      "\u001b[1;32m<ipython-input-1-0d4294ea718b>\u001b[0m in \u001b[0;36m<module>\u001b[1;34m\u001b[0m\n\u001b[1;32m----> 1\u001b[1;33m \u001b[0mdata\u001b[0m\u001b[1;33m[\u001b[0m\u001b[1;34m'floor_level'\u001b[0m\u001b[1;33m]\u001b[0m\u001b[1;33m.\u001b[0m\u001b[0mvalue_counts\u001b[0m\u001b[1;33m(\u001b[0m\u001b[1;33m)\u001b[0m\u001b[1;33m\u001b[0m\u001b[1;33m\u001b[0m\u001b[0m\n\u001b[0m",
      "\u001b[1;31mNameError\u001b[0m: name 'data' is not defined"
     ]
    }
   ],
   "source": [
    "data['floor_level'].value_counts()"
   ]
  },
  {
   "cell_type": "code",
   "execution_count": 14,
   "metadata": {},
   "outputs": [
    {
     "name": "stdout",
     "output_type": "stream",
     "text": [
      "  date_posted  days_listed  last_price  bedrooms  kitchen_area  living_area  \\\n",
      "0  2019-03-07          NaN    260000.0         3          25.0         51.0   \n",
      "1  2018-12-04         81.0     67000.0         1          11.0         18.6   \n",
      "2  2015-08-20        558.0    103920.0         2           8.3         34.3   \n",
      "3  2015-07-24        424.0   1298000.0         3           NaN          NaN   \n",
      "4  2018-06-19        121.0    200000.0         2          41.0         32.0   \n",
      "\n",
      "   total_area  balconies  ceiling_height  floors_total  ...  airport_dist  \\\n",
      "0       108.0        0.0            2.70          16.0  ...       18863.0   \n",
      "1        40.4        2.0             NaN          11.0  ...       12817.0   \n",
      "2        56.0        0.0             NaN           5.0  ...       21741.0   \n",
      "3       159.0        0.0             NaN          14.0  ...       28098.0   \n",
      "4       100.0        0.0            3.03          14.0  ...       31856.0   \n",
      "\n",
      "   city_center_dist park_dist  parks_within_3000  pond_dist ponds_within_3000  \\\n",
      "0           16028.0     482.0                1.0      755.0               2.0   \n",
      "1           18603.0       NaN                0.0        NaN               0.0   \n",
      "2           13933.0      90.0                1.0      574.0               2.0   \n",
      "3            6800.0      84.0                2.0      234.0               3.0   \n",
      "4            8098.0     112.0                2.0       48.0               1.0   \n",
      "\n",
      "   price_per_square_meter  floor_level  living_total_ratio  \\\n",
      "0             2407.407407        other            0.472222   \n",
      "1             1658.415842        first            0.460396   \n",
      "2             1855.714286        other            0.612500   \n",
      "3             8163.522013        other                 NaN   \n",
      "4             2000.000000        other            0.320000   \n",
      "\n",
      "   kitchen_total_ratio  \n",
      "0             0.231481  \n",
      "1             0.272277  \n",
      "2             0.148214  \n",
      "3                  NaN  \n",
      "4             0.410000  \n",
      "\n",
      "[5 rows x 26 columns]\n"
     ]
    }
   ],
   "source": [
    "#the ratio between the living space and the total area, as well as between the kitchen space and the total area.\n",
    "data['living_total_ratio']=data['living_area']/data['total_area']\n",
    "data['kitchen_total_ratio']=data['kitchen_area']/data['total_area']\n",
    "print(data.head())"
   ]
  },
  {
   "cell_type": "code",
   "execution_count": 15,
   "metadata": {},
   "outputs": [
    {
     "name": "stdout",
     "output_type": "stream",
     "text": [
      "  date_posted  days_listed  last_price  bedrooms  kitchen_area  living_area  \\\n",
      "0  2019-03-07          NaN    260000.0         3          25.0         51.0   \n",
      "1  2018-12-04         81.0     67000.0         1          11.0         18.6   \n",
      "2  2015-08-20        558.0    103920.0         2           8.3         34.3   \n",
      "3  2015-07-24        424.0   1298000.0         3           NaN          NaN   \n",
      "4  2018-06-19        121.0    200000.0         2          41.0         32.0   \n",
      "\n",
      "   total_area  balconies  ceiling_height  floors_total  ...  \\\n",
      "0       108.0        0.0            2.70          16.0  ...   \n",
      "1        40.4        2.0             NaN          11.0  ...   \n",
      "2        56.0        0.0             NaN           5.0  ...   \n",
      "3       159.0        0.0             NaN          14.0  ...   \n",
      "4       100.0        0.0            3.03          14.0  ...   \n",
      "\n",
      "   parks_within_3000  pond_dist ponds_within_3000  price_per_square_meter  \\\n",
      "0                1.0      755.0               2.0             2407.407407   \n",
      "1                0.0        NaN               0.0             1658.415842   \n",
      "2                1.0      574.0               2.0             1855.714286   \n",
      "3                2.0      234.0               3.0             8163.522013   \n",
      "4                2.0       48.0               1.0             2000.000000   \n",
      "\n",
      "   floor_level living_total_ratio  kitchen_total_ratio  year  month  day  \n",
      "0        other           0.472222             0.231481  2019      3    7  \n",
      "1        first           0.460396             0.272277  2018     12    4  \n",
      "2        other           0.612500             0.148214  2015      8   20  \n",
      "3        other                NaN                  NaN  2015      7   24  \n",
      "4        other           0.320000             0.410000  2018      6   19  \n",
      "\n",
      "[5 rows x 29 columns]\n"
     ]
    }
   ],
   "source": [
    "#making new separate columns for days, monhts and years...\n",
    "data['year'] = data['date_posted'].dt.year\n",
    "\n",
    "data['month'] = data['date_posted'].dt.month\n",
    "\n",
    "data['day'] = data['date_posted'].dt.day\n",
    "print(data.head())\n"
   ]
  },
  {
   "cell_type": "markdown",
   "metadata": {},
   "source": [
    "### Step 4. Conduct exploratory data analysis and follow the instructions below:"
   ]
  },
  {
   "cell_type": "code",
   "execution_count": 16,
   "metadata": {},
   "outputs": [
    {
     "data": {
      "text/plain": [
       "<matplotlib.axes._subplots.AxesSubplot at 0x7f15aacbf690>"
      ]
     },
     "execution_count": 16,
     "metadata": {},
     "output_type": "execute_result"
    },
    {
     "data": {
      "image/png": "[encoded data removed]",
      "text/plain": [
       "<Figure size 432x288 with 1 Axes>"
      ]
     },
     "metadata": {
      "needs_background": "light"
     },
     "output_type": "display_data"
    }
   ],
   "source": [
    "#Carefully investigate the following parameters: square area, price, number of rooms, and ceiling height.\n",
    "#Plot a histogram for each parameter.\n",
    "\n",
    "import matplotlib.pyplot as plt\n",
    "\n",
    "data['total_area'].hist(bins=150,range=(0,400))"
   ]
  },
  {
   "cell_type": "code",
   "execution_count": 17,
   "metadata": {},
   "outputs": [
    {
     "data": {
      "text/plain": [
       "<matplotlib.axes._subplots.AxesSubplot at 0x7f15aab1ab10>"
      ]
     },
     "execution_count": 17,
     "metadata": {},
     "output_type": "execute_result"
    },
    {
     "data": {
      "image/png": "[encoded data removed]",
      "text/plain": [
       "<Figure size 432x288 with 1 Axes>"
      ]
     },
     "metadata": {
      "needs_background": "light"
     },
     "output_type": "display_data"
    }
   ],
   "source": [
    "#same thing for last_price...\n",
    "data['last_price'].hist(bins=150,range=(20000,500000))\n"
   ]
  },
  {
   "cell_type": "code",
   "execution_count": 18,
   "metadata": {},
   "outputs": [
    {
     "data": {
      "text/plain": [
       "<matplotlib.axes._subplots.AxesSubplot at 0x7f15aaa74dd0>"
      ]
     },
     "execution_count": 18,
     "metadata": {},
     "output_type": "execute_result"
    },
    {
     "data": {
      "image/png": "[encoded data removed]",
      "text/plain": [
       "<Figure size 432x288 with 1 Axes>"
      ]
     },
     "metadata": {
      "needs_background": "light"
     },
     "output_type": "display_data"
    }
   ],
   "source": [
    "#same for the bedrooms...\n",
    "data['bedrooms'].hist(bins=25,range=(0,10))"
   ]
  },
  {
   "cell_type": "code",
   "execution_count": 19,
   "metadata": {},
   "outputs": [
    {
     "data": {
      "text/plain": [
       "<matplotlib.axes._subplots.AxesSubplot at 0x7f15a9df7c50>"
      ]
     },
     "execution_count": 19,
     "metadata": {},
     "output_type": "execute_result"
    },
    {
     "data": {
      "image/png": "[encoded data removed]",
      "text/plain": [
       "<Figure size 432x288 with 1 Axes>"
      ]
     },
     "metadata": {
      "needs_background": "light"
     },
     "output_type": "display_data"
    }
   ],
   "source": [
    "#ceiling heights as well...\n",
    "data['ceiling_height'].hist(bins=50, range=(2,5))"
   ]
  },
  {
   "cell_type": "code",
   "execution_count": 20,
   "metadata": {},
   "outputs": [
    {
     "name": "stdout",
     "output_type": "stream",
     "text": [
      "count    20518.000000\n",
      "mean       180.888634\n",
      "std        219.727988\n",
      "min          1.000000\n",
      "25%         45.000000\n",
      "50%         95.000000\n",
      "75%        232.000000\n",
      "max       1580.000000\n",
      "Name: days_listed, dtype: float64\n"
     ]
    },
    {
     "data": {
      "text/plain": [
       "<matplotlib.axes._subplots.AxesSubplot at 0x7f15a9d46990>"
      ]
     },
     "execution_count": 20,
     "metadata": {},
     "output_type": "execute_result"
    },
    {
     "data": {
      "image/png": "[encoded data removed]",
      "text/plain": [
       "<Figure size 432x288 with 1 Axes>"
      ]
     },
     "metadata": {
      "needs_background": "light"
     },
     "output_type": "display_data"
    }
   ],
   "source": [
    "# \"Examine the time it's taken to sell the apartment \n",
    "print(data['days_listed'].describe())\n",
    "\n",
    "data['days_listed'].hist(bins=150, range=(0,1000))\n",
    "\n",
    "#data['days_listed'].boxplot()\n",
    "#plt.ylim(-100, 1000)\n",
    "#as we can see from a table bellow mean time for selling appartment is aorund 180 days, while min is 1 and max is 1580"
   ]
  },
  {
   "cell_type": "code",
   "execution_count": 21,
   "metadata": {},
   "outputs": [],
   "source": [
    "\n",
    "# data['days_listed'].hist(bins=100, range=(30,100))"
   ]
  },
  {
   "cell_type": "code",
   "execution_count": 22,
   "metadata": {},
   "outputs": [
    {
     "data": {
      "text/plain": [
       "<matplotlib.axes._subplots.AxesSubplot at 0x7f15a99a8510>"
      ]
     },
     "execution_count": 22,
     "metadata": {},
     "output_type": "execute_result"
    },
    {
     "data": {
      "image/png": "[encoded data removed]",
      "text/plain": [
       "<Figure size 864x432 with 1 Axes>"
      ]
     },
     "metadata": {
      "needs_background": "light"
     },
     "output_type": "display_data"
    },
    {
     "data": {
      "image/png": "[encoded data removed]",
      "text/plain": [
       "<Figure size 864x432 with 1 Axes>"
      ]
     },
     "metadata": {
      "needs_background": "light"
     },
     "output_type": "display_data"
    },
    {
     "data": {
      "image/png": "[encoded data removed]",
      "text/plain": [
       "<Figure size 864x432 with 1 Axes>"
      ]
     },
     "metadata": {
      "needs_background": "light"
     },
     "output_type": "display_data"
    },
    {
     "data": {
      "image/png": "[encoded data removed]",
      "text/plain": [
       "<Figure size 864x432 with 1 Axes>"
      ]
     },
     "metadata": {
      "needs_background": "light"
     },
     "output_type": "display_data"
    }
   ],
   "source": [
    "#Remove rare and outlying values and describe the specific details you've discovered\n",
    "#Which factors have had the biggest influence on an apartment’s value? \n",
    "#Examine whether the value depends on price per meter, number of rooms,\n",
    "#floor (top or bottom), or the proximity to the downtown area.\n",
    "\n",
    "\n",
    "\n",
    "data.plot(x='last_price', y='price_per_square_meter', style='o-', ylim=(0,20000), grid=True, figsize=(12,6))\n",
    "data.plot(x='last_price', y='bedrooms', style='o-', ylim=(0,40), grid=True, figsize=(12,6))\n",
    "data.plot(x='last_price', y='floor', style='o-', ylim=(0,40), grid=True, figsize=(12,6))\n",
    "data.plot(x='last_price', y='city_center_dist', style='o-', ylim=(0,40), grid=True, figsize=(12,6))\n"
   ]
  },
  {
   "cell_type": "markdown",
   "metadata": {},
   "source": [
    "#Ok from here to the end I cant manage to move at all, please need your help on following:\n",
    "*  Examine whether the value depends on the total square area, number of rooms, floor (top or bottom), or the proximity to the city center area. Ok this I cant see on graphs but I know for sure that LOCATION is No1 factor\n",
    "*Also check whether the publication date has any effect on the price: specifically, day of the week, month, and year.\n",
    "I dont have any idea how to put this task into the code\n",
    "and everything from here is so confusing and the worst thing if I want to find it in the lessons, cant manage to do that...a"
   ]
  },
  {
   "cell_type": "code",
   "execution_count": 23,
   "metadata": {},
   "outputs": [
    {
     "name": "stdout",
     "output_type": "stream",
     "text": [
      "              kitchen_area  living_area\n",
      "kitchen_area      1.000000     0.428674\n",
      "living_area       0.428674     1.000000\n",
      "                  last_price  city_center_dist\n",
      "last_price          1.000000         -0.206747\n",
      "city_center_dist   -0.206747          1.000000\n",
      "                        last_price  price_per_square_meter\n",
      "last_price                1.000000                0.736499\n",
      "price_per_square_meter    0.736499                1.000000\n"
     ]
    },
    {
     "data": {
      "image/png": "[encoded data removed]",
      "text/plain": [
       "<Figure size 432x288 with 1 Axes>"
      ]
     },
     "metadata": {
      "needs_background": "light"
     },
     "output_type": "display_data"
    },
    {
     "data": {
      "image/png": "[encoded data removed]",
      "text/plain": [
       "<Figure size 432x288 with 1 Axes>"
      ]
     },
     "metadata": {
      "needs_background": "light"
     },
     "output_type": "display_data"
    },
    {
     "data": {
      "image/png": "[encoded data removed]",
      "text/plain": [
       "<Figure size 432x288 with 1 Axes>"
      ]
     },
     "metadata": {
      "needs_background": "light"
     },
     "output_type": "display_data"
    }
   ],
   "source": [
    "# Lets look at charts:\n",
    "data.plot(x='kitchen_area', y='living_area',  kind = 'scatter',alpha=0.5, grid=True)\n",
    "print(data[['kitchen_area','living_area']].corr())\n",
    "#according to the corr function there is relatively low corelation betweentchen and living area\n",
    "\n",
    "data.plot(x='last_price', y='city_center_dist', kind = 'scatter',alpha=0.5, grid=True)\n",
    "print(data[['last_price','city_center_dist']].corr())\n",
    "#according to the resluts there is a low negative corelation between city center and price of the real estate\n",
    "\n",
    "data.plot(x='last_price', y='price_per_square_meter', kind = 'scatter',alpha=0.5, grid=True)\n",
    "print(data[['last_price','price_per_square_meter']].corr())\n",
    "#according to the relusts there is a high positive corelation between price and price per square meters\n",
    "\n",
    "#after all the checks we can said that there is a highest corelation between price and price per square meters\n",
    "\n"
   ]
  },
  {
   "cell_type": "code",
   "execution_count": null,
   "metadata": {},
   "outputs": [],
   "source": []
  },
  {
   "cell_type": "code",
   "execution_count": 24,
   "metadata": {},
   "outputs": [
    {
     "data": {
      "image/png": "[encoded data removed]",
      "text/plain": [
       "<Figure size 800x400 with 1 Axes>"
      ]
     },
     "metadata": {
      "needs_background": "light"
     },
     "output_type": "display_data"
    }
   ],
   "source": [
    "# Draw Plot\n",
    "plt.figure(figsize=(10,5), dpi= 80)\n",
    "sns.kdeplot(data.loc[data['floor_level']=='last','kitchen_area'], shade=True, color=\"orange\", label=\"last\", alpha=.7)\n",
    "sns.kdeplot(data.loc[data['floor_level']=='first','kitchen_area'], shade=True, color=\"blue\", label=\"first\", alpha=.7)\n",
    "sns.kdeplot(data.loc[data['floor_level']=='other','kitchen_area'], shade=True, color=\"green\", label=\"other\", alpha=.7)\n",
    "\n",
    "# Decoration\n",
    "plt.title('floor_level VS kitchen_area', fontsize=22)\n",
    "plt.legend()\n",
    "plt.show()\n"
   ]
  },
  {
   "cell_type": "code",
   "execution_count": 25,
   "metadata": {},
   "outputs": [
    {
     "data": {
      "text/html": [
       "<div>\n",
       "<style scoped>\n",
       "    .dataframe tbody tr th:only-of-type {\n",
       "        vertical-align: middle;\n",
       "    }\n",
       "\n",
       "    .dataframe tbody tr th {\n",
       "        vertical-align: top;\n",
       "    }\n",
       "\n",
       "    .dataframe thead th {\n",
       "        text-align: right;\n",
       "    }\n",
       "</style>\n",
       "<table border=\"1\" class=\"dataframe\">\n",
       "  <thead>\n",
       "    <tr style=\"text-align: right;\">\n",
       "      <th></th>\n",
       "      <th>living_area</th>\n",
       "      <th>total_area</th>\n",
       "    </tr>\n",
       "  </thead>\n",
       "  <tbody>\n",
       "    <tr>\n",
       "      <td>living_area</td>\n",
       "      <td>1.000000</td>\n",
       "      <td>0.939537</td>\n",
       "    </tr>\n",
       "    <tr>\n",
       "      <td>total_area</td>\n",
       "      <td>0.939537</td>\n",
       "      <td>1.000000</td>\n",
       "    </tr>\n",
       "  </tbody>\n",
       "</table>\n",
       "</div>"
      ],
      "text/plain": [
       "             living_area  total_area\n",
       "living_area     1.000000    0.939537\n",
       "total_area      0.939537    1.000000"
      ]
     },
     "execution_count": 25,
     "metadata": {},
     "output_type": "execute_result"
    }
   ],
   "source": [
    "# Here you can see a strong positive correlation = 0,939 between living_area and total_area\n",
    "data[['living_area','total_area']].corr()\n",
    "#data[['last_price','price_per_square_meter']].corr()\n",
    "\n"
   ]
  },
  {
   "cell_type": "code",
   "execution_count": 26,
   "metadata": {},
   "outputs": [
    {
     "data": {
      "text/plain": [
       "locality_name\n",
       "saint petersburg     2296.980173\n",
       "pushkin              2062.516436\n",
       "kudrovo village      1849.470888\n",
       "pargolovo village    1803.518265\n",
       "murino village       1713.635239\n",
       "shushary village     1573.547285\n",
       "kolpino              1508.491516\n",
       "gatchina             1374.922923\n",
       "vsevolozhsk          1373.089507\n",
       "vyborg               1162.838183\n",
       "Name: price_per_square_meter, dtype: float64"
      ]
     },
     "execution_count": 26,
     "metadata": {},
     "output_type": "execute_result"
    }
   ],
   "source": [
    "#Select the 10 places with the largest number of ads and then calculate the average price per square \n",
    "#meter in these localities...\n",
    "top10 = data.groupby('locality_name')['locality_name'].count().sort_values(ascending=False).head(10).index.tolist()\n",
    "data.query('locality_name in @top10').groupby('locality_name')['price_per_square_meter'].mean().sort_values(ascending = False)"
   ]
  },
  {
   "cell_type": "code",
   "execution_count": 27,
   "metadata": {},
   "outputs": [
    {
     "data": {
      "text/plain": [
       "locality_name\n",
       "saint petersburg     2296.980173\n",
       "pushkin              2062.516436\n",
       "kudrovo village      1849.470888\n",
       "pargolovo village    1803.518265\n",
       "murino village       1713.635239\n",
       "shushary village     1573.547285\n",
       "kolpino              1508.491516\n",
       "gatchina             1374.922923\n",
       "vsevolozhsk          1373.089507\n",
       "vyborg               1162.838183\n",
       "Name: price_per_square_meter, dtype: float64"
      ]
     },
     "execution_count": 27,
     "metadata": {},
     "output_type": "execute_result"
    }
   ],
   "source": [
    "#Select the 10 places with the largest number of ads and then calculate the average price per square \n",
    "#meter in these localities...\n",
    "top10 = data.groupby('locality_name')['locality_name'].count().sort_values(ascending=False).head(10).index.tolist()\n",
    "data.query('locality_name in @top10').groupby('locality_name')['price_per_square_meter'].mean().sort_values(ascending = False)"
   ]
  },
  {
   "cell_type": "code",
   "execution_count": 28,
   "metadata": {},
   "outputs": [
    {
     "data": {
      "text/plain": [
       "<matplotlib.axes._subplots.AxesSubplot at 0x7f15a7639090>"
      ]
     },
     "execution_count": 28,
     "metadata": {},
     "output_type": "execute_result"
    },
    {
     "data": {
      "image/png": "[encoded data removed]",
      "text/plain": [
       "<Figure size 432x288 with 1 Axes>"
      ]
     },
     "metadata": {
      "needs_background": "light"
     },
     "output_type": "display_data"
    }
   ],
   "source": [
    "#Thoroughly look at apartment offers: Each apartment has information about the distance to the city center. \n",
    "#Select apartments in Saint Petersburg (‘locality_name’). Your task is to pinpoint which area is considered \n",
    "#to be in the city center. In order to do that, create a column with the distance to the city center in km \n",
    "#and round to the nearest whole number. Next, calculate the average price for each kilometer and plot \n",
    "#a graph to display how prices are affected by the distance to the city center.\n",
    "#Find a place on the graph where it shifts significantly. That's the city center border.\n",
    "#create a column with the distance to the city center in km and round to the nearest whole number. \n",
    "\n",
    "stpetersburg_kilometer=data[data['locality_name']=='saint petersburg'].copy()\n",
    "stpetersburg_kilometer['cityCenters_nearest_round_km'] = 0\n",
    "stpetersburg_kilometer.loc[:,'cityCenters_nearest_round_km'] = round(stpetersburg_kilometer['city_center_dist'] / 1000,0)\n",
    "stpetersburg_kilometer.groupby('cityCenters_nearest_round_km')['last_price'].mean().plot()\n",
    "#dont now how to fix this mess"
   ]
  },
  {
   "cell_type": "code",
   "execution_count": 29,
   "metadata": {},
   "outputs": [
    {
     "data": {
      "text/plain": [
       "<matplotlib.axes._subplots.AxesSubplot at 0x7f15a979fe50>"
      ]
     },
     "execution_count": 29,
     "metadata": {},
     "output_type": "execute_result"
    },
    {
     "data": {
      "image/png": "[encoded data removed]",
      "text/plain": [
       "<Figure size 432x288 with 1 Axes>"
      ]
     },
     "metadata": {
      "needs_background": "light"
     },
     "output_type": "display_data"
    }
   ],
   "source": [
    "stpetersburg_kilometer=data[data['locality_name']=='saint petersburg'].copy()\n",
    "stpetersburg_kilometer['cityCenters_nearest_round_km'] = 0\n",
    "stpetersburg_kilometer.loc[:,'cityCenters_nearest_round_km'] = round(stpetersburg_kilometer['city_center_dist'] / 1000,0)\n",
    "stpetersburg_kilometer.groupby('cityCenters_nearest_round_km')['last_price'].mean().plot()"
   ]
  },
  {
   "cell_type": "code",
   "execution_count": 30,
   "metadata": {},
   "outputs": [],
   "source": [
    "#according to the graph results we can say that somwhere around between 7-8 kilometers there is a turning point in terms of \n",
    "#prices of the rela estat.Also a sudden drop arround 4th kilometer might be caused by the river Neva."
   ]
  },
  {
   "cell_type": "code",
   "execution_count": 31,
   "metadata": {},
   "outputs": [
    {
     "data": {
      "text/plain": [
       "<matplotlib.axes._subplots.AxesSubplot at 0x7f15a99a1e50>"
      ]
     },
     "execution_count": 31,
     "metadata": {},
     "output_type": "execute_result"
    },
    {
     "data": {
      "image/png": "[encoded data removed]",
      "text/plain": [
       "<Figure size 432x288 with 1 Axes>"
      ]
     },
     "metadata": {
      "needs_background": "light"
     },
     "output_type": "display_data"
    }
   ],
   "source": [
    "#Select a segment of apartments in the downtown. Analyze this area and examine the following parameters:\n",
    "#square area, price, number of rooms, ceiling height. Also identify the factors \n",
    "#that affect an apartment’s price (number of rooms, floor, distance to the downtown area, and ad publication date). \n",
    "#Draw your conclusions. Are they different from the overall conclusions about the entire city?\"\n",
    "#data[['city_center_dist','total_area']].corr()\n",
    "stpetersburg_kilometer.groupby('cityCenters_nearest_round_km')['floor'].mean().plot()\n",
    "#most of the center buildings up to 5 floors, higher bulidings locatedin the 17-25 km area and then after that sudden fall \n",
    "#might be caused by entering country side and villages areas...just a guess\n",
    "stpetersburg_kilometer.groupby('cityCenters_nearest_round_km')['total_area'].mean().plot()\n",
    "stpetersburg_kilometer.groupby('cityCenters_nearest_round_km')['city_center_dist'].mean().plot()\n",
    "\n",
    "\n"
   ]
  },
  {
   "cell_type": "markdown",
   "metadata": {},
   "source": [
    "<div class=\"alert alert-block alert-warning\">\n",
    "The sharp drop in the cost in the area of 3 km is probably because the Neva river is located within this radius. I still tend to believe that the radius is around 8-9 km.</div>\n"
   ]
  },
  {
   "cell_type": "code",
   "execution_count": 42,
   "metadata": {},
   "outputs": [
    {
     "data": {
      "text/html": [
       "<div>\n",
       "<style scoped>\n",
       "    .dataframe tbody tr th:only-of-type {\n",
       "        vertical-align: middle;\n",
       "    }\n",
       "\n",
       "    .dataframe tbody tr th {\n",
       "        vertical-align: top;\n",
       "    }\n",
       "\n",
       "    .dataframe thead th {\n",
       "        text-align: right;\n",
       "    }\n",
       "</style>\n",
       "<table border=\"1\" class=\"dataframe\">\n",
       "  <thead>\n",
       "    <tr style=\"text-align: right;\">\n",
       "      <th></th>\n",
       "      <th>city_center_dist</th>\n",
       "      <th>last_price</th>\n",
       "      <th>total_area</th>\n",
       "      <th>bedrooms</th>\n",
       "      <th>floor</th>\n",
       "    </tr>\n",
       "  </thead>\n",
       "  <tbody>\n",
       "    <tr>\n",
       "      <td>city_center_dist</td>\n",
       "      <td>1.000000</td>\n",
       "      <td>-0.048144</td>\n",
       "      <td>-0.105192</td>\n",
       "      <td>-0.176570</td>\n",
       "      <td>0.249516</td>\n",
       "    </tr>\n",
       "    <tr>\n",
       "      <td>last_price</td>\n",
       "      <td>-0.048144</td>\n",
       "      <td>1.000000</td>\n",
       "      <td>0.636406</td>\n",
       "      <td>0.333047</td>\n",
       "      <td>0.126028</td>\n",
       "    </tr>\n",
       "    <tr>\n",
       "      <td>total_area</td>\n",
       "      <td>-0.105192</td>\n",
       "      <td>0.636406</td>\n",
       "      <td>1.000000</td>\n",
       "      <td>0.736683</td>\n",
       "      <td>0.104461</td>\n",
       "    </tr>\n",
       "    <tr>\n",
       "      <td>bedrooms</td>\n",
       "      <td>-0.176570</td>\n",
       "      <td>0.333047</td>\n",
       "      <td>0.736683</td>\n",
       "      <td>1.000000</td>\n",
       "      <td>-0.038684</td>\n",
       "    </tr>\n",
       "    <tr>\n",
       "      <td>floor</td>\n",
       "      <td>0.249516</td>\n",
       "      <td>0.126028</td>\n",
       "      <td>0.104461</td>\n",
       "      <td>-0.038684</td>\n",
       "      <td>1.000000</td>\n",
       "    </tr>\n",
       "  </tbody>\n",
       "</table>\n",
       "</div>"
      ],
      "text/plain": [
       "                  city_center_dist  last_price  total_area  bedrooms     floor\n",
       "city_center_dist          1.000000   -0.048144   -0.105192 -0.176570  0.249516\n",
       "last_price               -0.048144    1.000000    0.636406  0.333047  0.126028\n",
       "total_area               -0.105192    0.636406    1.000000  0.736683  0.104461\n",
       "bedrooms                 -0.176570    0.333047    0.736683  1.000000 -0.038684\n",
       "floor                     0.249516    0.126028    0.104461 -0.038684  1.000000"
      ]
     },
     "execution_count": 42,
     "metadata": {},
     "output_type": "execute_result"
    }
   ],
   "source": [
    "# Select a segment of apartments in the downtown. Analyze this area and examine the following parameters:\n",
    "#square area, price, number of rooms, ceiling height. Also identify the factors \n",
    "#that affect an apartment’s price (number of rooms, floor, distance to the downtown area, and ad publication date).\n",
    "center_data_price = data[['city_center_dist', 'last_price', 'total_area', 'bedrooms', 'floor']]\n",
    "# center_data_price = center_data_price.query('city_center_dist <= 8')\n",
    "center_data_price = center_data_price.query('city_center_dist <= 8000')\n",
    "center_data_price.corr()\n",
    "\n",
    "#and now when I want to make corellation it give me some kind of error\n"
   ]
  },
  {
   "cell_type": "code",
   "execution_count": null,
   "metadata": {},
   "outputs": [],
   "source": [
    "#Ok since I cant manage to draw graphs for the last task I will give overal conclusons for the entire city\n",
    "#The main factor that affect the real estate value is location, and proximity to the city center,besides that\n",
    "#price_per_square meter also affect price of a real estate.There is a certain depression in prices arround 5 kilometers\n",
    "#from city center caused by river Neva.There are also some missing info on real estate condition ( good conditon, new, renovated)\n",
    "#and those are also significant factors that affects price per meter and overal price of a real estate."
   ]
  },
  {
   "cell_type": "markdown",
   "metadata": {},
   "source": [
    "### Project completion checklist\n",
    "\n",
    "Mark the completed tasks with 'x'. Then press Shift+Enter."
   ]
  },
  {
   "cell_type": "markdown",
   "metadata": {},
   "source": [
    "- [x]  file opened\n",
    "- [ ]  files explored (first rows printed, info() method)\n",
    "- [ ]  missing values determined\n",
    "- [ ]  missing values filled in\n",
    "- [ ]  clarification of the discovered missing values provided\n",
    "- [ ]  data types converted\n",
    "- [ ]  explanation of which columns had the data types changed and why\n",
    "- [ ]  calculated and added to the table: the price per square meter\n",
    "- [ ]  calculated and added to the table: the day of the week, month, and year that the ad was published\n",
    "- [ ]  calculated and added to the table: which floor the apartment is on (first, last, or other)\n",
    "- [ ]  calculated and added to the table: the ratio between the living space and the total area, as well as between the kitchen space and the total area\n",
    "- [ ]  the following parameters investigated: square area, price, number of rooms, and ceiling height\n",
    "- [ ]  histograms for each parameter created\n",
    "- [ ]  task completed: \"Examine the time it's taken to sell the apartment and create a histogram. Calculate the mean and median and explain the average time it usually takes to complete a sale. When can a sale be considered extra quick or taken an extra slow?\"\n",
    "- [ ]  task completed: \"Remove rare and outlying values and describe the specific details you've discovered.\"\n",
    "- [ ]  task completed: \"Which factors have had the biggest influence on an apartment’s value? Examine whether the value depends on price per meter, number of rooms, floor (top or bottom), or the proximity to the downtown area. Also study the correlation to the ad posting date: day of the week, month, and year. \"Select the 10 places with the largest number of ads and then calculate the average price per square meter in these localities. Select the locations with the highest and lowest housing prices. You can find this data by name in the ’*locality_name’* column. \"\n",
    "- [ ]  task completed: \"Thoroughly look at apartment offers: each apartment has information about the distance to the downtown area. Select apartments in Saint Petersburg (*‘locality_name’*). Your task is to pinpoint which area is considered to be downtown. Create a column with the distance to the downtown area in km and round to the nearest whole number. Next, calculate the average price for each kilometer. Build a graph to display how prices are affected by the distance to the downtown area. Define the turning point where the graph significantly changes. This will indicate downtown. \"\n",
    "- [ ]  task completed: \"Select a segment of apartments in the downtown. Analyze this area and examine the following parameters: square area, price, number of rooms, ceiling height. Also identify the factors that affect an apartment’s price (number of rooms, floor, distance to the downtown area, and ad publication date). Draw your conclusions. Are they different from the overall conclusions about the entire city?\"\n",
    "- [ ]  each stage has a conclusion\n",
    "- [ ]  overall conclusion drawn"
   ]
  },
  {
   "cell_type": "code",
   "execution_count": null,
   "metadata": {},
   "outputs": [],
   "source": []
  },
  {
   "cell_type": "code",
   "execution_count": null,
   "metadata": {},
   "outputs": [],
   "source": []
  },
  {
   "cell_type": "code",
   "execution_count": null,
   "metadata": {},
   "outputs": [],
   "source": []
  }
 ],
 "metadata": {
  "kernelspec": {
   "display_name": "Python 3",
   "language": "python",
   "name": "python3"
  },
  "language_info": {
   "codemirror_mode": {
    "name": "ipython",
    "version": 3
   },
   "file_extension": ".py",
   "mimetype": "text/x-python",
   "name": "python",
   "nbconvert_exporter": "python",
   "pygments_lexer": "ipython3",
   "version": "3.7.6"
  }
 },
 "nbformat": 4,
 "nbformat_minor": 2
}
